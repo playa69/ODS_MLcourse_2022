{
 "cells": [
  {
   "cell_type": "markdown",
   "id": "673b9a06",
   "metadata": {},
   "source": [
    "# 1"
   ]
  },
  {
   "cell_type": "code",
   "execution_count": 4,
   "id": "5fbc18aa",
   "metadata": {},
   "outputs": [
    {
     "name": "stdout",
     "output_type": "stream",
     "text": [
      "133333334466666672\n"
     ]
    }
   ],
   "source": [
    "# optimized O(const) \n",
    "n = 1_000_000_002\n",
    "sum = ((3 + n)*n//3)//2 #arithmetic summary\n",
    "max7 = 999_999_987 # precalculated\n",
    "max4 = 999_999_984 # precalculated\n",
    "i = max7 - 27\n",
    "i = i//30 + 1\n",
    "j = max4 - 24\n",
    "j = j//30 + 1\n",
    "sum_7 = ((27 + 999_999_987)*i)//2\n",
    "sum_4 = ((24 + 999_999_984)*j)//2\n",
    "final = sum - (sum_7+sum_4) #equation final(n:2)\n",
    "print(final)"
   ]
  },
  {
   "cell_type": "code",
   "execution_count": null,
   "id": "d73ff620",
   "metadata": {},
   "outputs": [],
   "source": [
    "#long\n",
    "sum([i for i in range(1, 1_000_000_003, 3) if i%10!=4 and i%10!=7])"
   ]
  }
 ],
 "metadata": {
  "kernelspec": {
   "display_name": "Python 3 (ipykernel)",
   "language": "python",
   "name": "python3"
  },
  "language_info": {
   "codemirror_mode": {
    "name": "ipython",
    "version": 3
   },
   "file_extension": ".py",
   "mimetype": "text/x-python",
   "name": "python",
   "nbconvert_exporter": "python",
   "pygments_lexer": "ipython3",
   "version": "3.9.5"
  }
 },
 "nbformat": 4,
 "nbformat_minor": 5
}
