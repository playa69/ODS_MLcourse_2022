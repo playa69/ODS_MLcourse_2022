{
 "cells": [
  {
   "cell_type": "markdown",
   "id": "2128642a",
   "metadata": {},
   "source": [
    "#2\n"
   ]
  },
  {
   "cell_type": "code",
   "execution_count": 4,
   "id": "c07d34d0",
   "metadata": {},
   "outputs": [],
   "source": [
    "j = 0 #counter\n",
    "LINES = 3000\n",
    "with open(\"output.txt\", \"w+\") as new_file:\n",
    "    with open(\"input_file.txt\", \"r\") as file:\n",
    "        for line in file:\n",
    "            list1 = line.split()\n",
    "            # WET\n",
    "            if(list1[0]==\"+\"):\n",
    "                x = int(list1[1]) + int(list1[2])\n",
    "            elif(list1[0]==\"-\"):\n",
    "                x = int(list1[1]) - int(list1[2])\n",
    "            elif(list1[0]==\"*\"):\n",
    "                x = int(list1[1]) * int(list1[2])\n",
    "            elif(list1[0]==\"//\"):\n",
    "                x = int(list1[1]) // int(list1[2])\n",
    "            elif(list1[0]==\"%\"):\n",
    "                x = int(list1[1]) % int(list1[2])\n",
    "            elif(list1[0]==\"**\"):\n",
    "                x = int(list1[1]) ** int(list1[2])\n",
    "            j += 1\n",
    "            if (j!=LINES):\n",
    "                new_file.write(f\"{x},\") \n",
    "            else:\n",
    "                new_file.write(f\"{x}\")\n",
    "new_file.close()\n",
    "file.close()\n",
    "    \n",
    "\n",
    "        \n",
    "        "
   ]
  },
  {
   "cell_type": "code",
   "execution_count": 3,
   "id": "1dd9d113",
   "metadata": {
    "scrolled": true
   },
   "outputs": [
    {
     "name": "stdout",
     "output_type": "stream",
     "text": [
      "[]\n"
     ]
    }
   ],
   "source": [
    "list2 = ['+', '6184', '-5953']\n",
    "if(list2[0]==\"*\"):\n",
    "    x = int(list2[1]) * int(list2[2])\n",
    "else:\n",
    "    x = \"[]\"\n",
    "print(x)"
   ]
  },
  {
   "cell_type": "code",
   "execution_count": null,
   "id": "1b760e19",
   "metadata": {},
   "outputs": [],
   "source": []
  }
 ],
 "metadata": {
  "kernelspec": {
   "display_name": "Python 3 (ipykernel)",
   "language": "python",
   "name": "python3"
  },
  "language_info": {
   "codemirror_mode": {
    "name": "ipython",
    "version": 3
   },
   "file_extension": ".py",
   "mimetype": "text/x-python",
   "name": "python",
   "nbconvert_exporter": "python",
   "pygments_lexer": "ipython3",
   "version": "3.9.5"
  }
 },
 "nbformat": 4,
 "nbformat_minor": 5
}
